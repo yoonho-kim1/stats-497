{
 "cells": [
  {
   "cell_type": "markdown",
   "id": "8ee0854d",
   "metadata": {},
   "source": [
    "In this section, we will investigate each dataset in order to better predict. "
   ]
  },
  {
   "cell_type": "markdown",
   "id": "782a355a",
   "metadata": {},
   "source": [
    "### Import Libraries"
   ]
  },
  {
   "cell_type": "code",
   "execution_count": 1,
   "id": "628a27ac",
   "metadata": {},
   "outputs": [],
   "source": [
    "import numpy as np\n",
    "import pandas as pd\n",
    "import re\n",
    "import os\n",
    "import pickle\n",
    "from scipy.stats import shapiro, ttest_ind, chi2, mannwhitneyu"
   ]
  },
  {
   "cell_type": "markdown",
   "id": "810fe3d2",
   "metadata": {},
   "source": [
    "### Import data"
   ]
  },
  {
   "cell_type": "code",
   "execution_count": 2,
   "id": "b74b16ab",
   "metadata": {},
   "outputs": [],
   "source": [
    "holiday = pd.read_csv('../data/holidays_events.csv')\n",
    "oil = pd.read_csv('../data/oil.csv')\n",
    "store = pd.read_csv('../data/stores.csv')\n",
    "transaction = pd.read_csv('../data/transactions.csv')\n",
    "train = pd.read_csv('../data/train.csv')\n",
    "test = pd.read_csv('../data/test.csv')"
   ]
  },
  {
   "cell_type": "markdown",
   "id": "ac98ba1f",
   "metadata": {},
   "source": [
    "### Helper"
   ]
  },
  {
   "cell_type": "code",
   "execution_count": 274,
   "id": "f6f0f7cd",
   "metadata": {},
   "outputs": [],
   "source": [
    "def print_summary(data):\n",
    "    \"\"\"This function will print out the data summary within our data frame.\n",
    "    It will print out the results including data type, mean, median, standard deviation, missing values and so on.\n",
    "    \n",
    "    Input:\n",
    "    data -> dataframe \n",
    "    \n",
    "    Output:\n",
    "    summary -> statistical summary of the data frames\"\"\"\n",
    "    \n",
    "    for col, ctype in data.dtypes.items():\n",
    "        missing = data[col].isnull().sum()\n",
    "        summary = data[col].describe()\n",
    "        total = len(data[col])\n",
    "        print(f\"Total number of rows: {total}\")\n",
    "        print(f\"Missing value: {missing}\")\n",
    "        print(f\"{col} summary: \")\n",
    "        print(summary)\n",
    "       \n",
    "        print('-' * 50)\n",
    "    "
   ]
  },
  {
   "cell_type": "code",
   "execution_count": 4,
   "id": "9ed951dc",
   "metadata": {},
   "outputs": [],
   "source": [
    "def create_new_path(path):\n",
    "    \n",
    "    \"\"\"This function will create a new folder.\n",
    "    \n",
    "    Input: \n",
    "    path -> str (specify the path you want to create)\n",
    "    \"\"\"\n",
    "    \n",
    "    # try to create a new path in our data\n",
    "    # if folders are already existed, then will get an error message\n",
    "    try: \n",
    "        os.mkdir(path) \n",
    "    except OSError as e: \n",
    "        print(e)  "
   ]
  },
  {
   "cell_type": "markdown",
   "id": "e1189279",
   "metadata": {},
   "source": [
    "### Create new folders"
   ]
  },
  {
   "cell_type": "code",
   "execution_count": 5,
   "id": "661eb213",
   "metadata": {},
   "outputs": [],
   "source": [
    "output_path = '../output'\n",
    "asset_path = '../asset'"
   ]
  },
  {
   "cell_type": "code",
   "execution_count": 6,
   "id": "e5f52a23",
   "metadata": {},
   "outputs": [
    {
     "name": "stdout",
     "output_type": "stream",
     "text": [
      "[Errno 17] File exists: '../output'\n",
      "[Errno 17] File exists: '../asset'\n"
     ]
    }
   ],
   "source": [
    "for path in [output_path, asset_path]:\n",
    "    create_new_path(path)"
   ]
  },
  {
   "cell_type": "markdown",
   "id": "309aee73",
   "metadata": {},
   "source": [
    "### Investigate"
   ]
  },
  {
   "cell_type": "markdown",
   "id": "ca50f2f9",
   "metadata": {},
   "source": [
    "Since we have few different data frames, we need to investigate each data further. "
   ]
  },
  {
   "cell_type": "markdown",
   "id": "8fca3b54",
   "metadata": {},
   "source": [
    "- holiday"
   ]
  },
  {
   "cell_type": "code",
   "execution_count": 275,
   "id": "1044d185",
   "metadata": {},
   "outputs": [
    {
     "data": {
      "text/html": [
       "<div>\n",
       "<style scoped>\n",
       "    .dataframe tbody tr th:only-of-type {\n",
       "        vertical-align: middle;\n",
       "    }\n",
       "\n",
       "    .dataframe tbody tr th {\n",
       "        vertical-align: top;\n",
       "    }\n",
       "\n",
       "    .dataframe thead th {\n",
       "        text-align: right;\n",
       "    }\n",
       "</style>\n",
       "<table border=\"1\" class=\"dataframe\">\n",
       "  <thead>\n",
       "    <tr style=\"text-align: right;\">\n",
       "      <th></th>\n",
       "      <th>date</th>\n",
       "      <th>type</th>\n",
       "      <th>locale</th>\n",
       "      <th>locale_name</th>\n",
       "      <th>description</th>\n",
       "      <th>transferred</th>\n",
       "    </tr>\n",
       "  </thead>\n",
       "  <tbody>\n",
       "    <tr>\n",
       "      <th>0</th>\n",
       "      <td>2012-03-02</td>\n",
       "      <td>Holiday</td>\n",
       "      <td>Local</td>\n",
       "      <td>Manta</td>\n",
       "      <td>Fundacion de Manta</td>\n",
       "      <td>False</td>\n",
       "    </tr>\n",
       "    <tr>\n",
       "      <th>1</th>\n",
       "      <td>2012-04-01</td>\n",
       "      <td>Holiday</td>\n",
       "      <td>Regional</td>\n",
       "      <td>Cotopaxi</td>\n",
       "      <td>Provincializacion de Cotopaxi</td>\n",
       "      <td>False</td>\n",
       "    </tr>\n",
       "    <tr>\n",
       "      <th>2</th>\n",
       "      <td>2012-04-12</td>\n",
       "      <td>Holiday</td>\n",
       "      <td>Local</td>\n",
       "      <td>Cuenca</td>\n",
       "      <td>Fundacion de Cuenca</td>\n",
       "      <td>False</td>\n",
       "    </tr>\n",
       "    <tr>\n",
       "      <th>3</th>\n",
       "      <td>2012-04-14</td>\n",
       "      <td>Holiday</td>\n",
       "      <td>Local</td>\n",
       "      <td>Libertad</td>\n",
       "      <td>Cantonizacion de Libertad</td>\n",
       "      <td>False</td>\n",
       "    </tr>\n",
       "    <tr>\n",
       "      <th>4</th>\n",
       "      <td>2012-04-21</td>\n",
       "      <td>Holiday</td>\n",
       "      <td>Local</td>\n",
       "      <td>Riobamba</td>\n",
       "      <td>Cantonizacion de Riobamba</td>\n",
       "      <td>False</td>\n",
       "    </tr>\n",
       "  </tbody>\n",
       "</table>\n",
       "</div>"
      ],
      "text/plain": [
       "         date     type    locale locale_name                    description  \\\n",
       "0  2012-03-02  Holiday     Local       Manta             Fundacion de Manta   \n",
       "1  2012-04-01  Holiday  Regional    Cotopaxi  Provincializacion de Cotopaxi   \n",
       "2  2012-04-12  Holiday     Local      Cuenca            Fundacion de Cuenca   \n",
       "3  2012-04-14  Holiday     Local    Libertad      Cantonizacion de Libertad   \n",
       "4  2012-04-21  Holiday     Local    Riobamba      Cantonizacion de Riobamba   \n",
       "\n",
       "   transferred  \n",
       "0        False  \n",
       "1        False  \n",
       "2        False  \n",
       "3        False  \n",
       "4        False  "
      ]
     },
     "execution_count": 275,
     "metadata": {},
     "output_type": "execute_result"
    }
   ],
   "source": [
    "holiday.head()"
   ]
  },
  {
   "cell_type": "code",
   "execution_count": 276,
   "id": "f0283c76",
   "metadata": {},
   "outputs": [
    {
     "data": {
      "text/html": [
       "<div>\n",
       "<style scoped>\n",
       "    .dataframe tbody tr th:only-of-type {\n",
       "        vertical-align: middle;\n",
       "    }\n",
       "\n",
       "    .dataframe tbody tr th {\n",
       "        vertical-align: top;\n",
       "    }\n",
       "\n",
       "    .dataframe thead th {\n",
       "        text-align: right;\n",
       "    }\n",
       "</style>\n",
       "<table border=\"1\" class=\"dataframe\">\n",
       "  <thead>\n",
       "    <tr style=\"text-align: right;\">\n",
       "      <th></th>\n",
       "      <th>date</th>\n",
       "      <th>type</th>\n",
       "      <th>locale</th>\n",
       "      <th>locale_name</th>\n",
       "      <th>description</th>\n",
       "      <th>transferred</th>\n",
       "    </tr>\n",
       "  </thead>\n",
       "  <tbody>\n",
       "    <tr>\n",
       "      <th>345</th>\n",
       "      <td>2017-12-22</td>\n",
       "      <td>Additional</td>\n",
       "      <td>National</td>\n",
       "      <td>Ecuador</td>\n",
       "      <td>Navidad-3</td>\n",
       "      <td>False</td>\n",
       "    </tr>\n",
       "    <tr>\n",
       "      <th>346</th>\n",
       "      <td>2017-12-23</td>\n",
       "      <td>Additional</td>\n",
       "      <td>National</td>\n",
       "      <td>Ecuador</td>\n",
       "      <td>Navidad-2</td>\n",
       "      <td>False</td>\n",
       "    </tr>\n",
       "    <tr>\n",
       "      <th>347</th>\n",
       "      <td>2017-12-24</td>\n",
       "      <td>Additional</td>\n",
       "      <td>National</td>\n",
       "      <td>Ecuador</td>\n",
       "      <td>Navidad-1</td>\n",
       "      <td>False</td>\n",
       "    </tr>\n",
       "    <tr>\n",
       "      <th>348</th>\n",
       "      <td>2017-12-25</td>\n",
       "      <td>Holiday</td>\n",
       "      <td>National</td>\n",
       "      <td>Ecuador</td>\n",
       "      <td>Navidad</td>\n",
       "      <td>False</td>\n",
       "    </tr>\n",
       "    <tr>\n",
       "      <th>349</th>\n",
       "      <td>2017-12-26</td>\n",
       "      <td>Additional</td>\n",
       "      <td>National</td>\n",
       "      <td>Ecuador</td>\n",
       "      <td>Navidad+1</td>\n",
       "      <td>False</td>\n",
       "    </tr>\n",
       "  </tbody>\n",
       "</table>\n",
       "</div>"
      ],
      "text/plain": [
       "           date        type    locale locale_name description  transferred\n",
       "345  2017-12-22  Additional  National     Ecuador   Navidad-3        False\n",
       "346  2017-12-23  Additional  National     Ecuador   Navidad-2        False\n",
       "347  2017-12-24  Additional  National     Ecuador   Navidad-1        False\n",
       "348  2017-12-25     Holiday  National     Ecuador     Navidad        False\n",
       "349  2017-12-26  Additional  National     Ecuador   Navidad+1        False"
      ]
     },
     "execution_count": 276,
     "metadata": {},
     "output_type": "execute_result"
    }
   ],
   "source": [
    "holiday.tail()"
   ]
  },
  {
   "cell_type": "code",
   "execution_count": 277,
   "id": "dbbad9d1",
   "metadata": {},
   "outputs": [
    {
     "data": {
      "text/plain": [
       "Holiday       221\n",
       "Event          56\n",
       "Additional     51\n",
       "Transfer       12\n",
       "Bridge          5\n",
       "Work Day        5\n",
       "Name: type, dtype: int64"
      ]
     },
     "execution_count": 277,
     "metadata": {},
     "output_type": "execute_result"
    }
   ],
   "source": [
    "holiday.type.value_counts()"
   ]
  },
  {
   "cell_type": "markdown",
   "id": "e0156fbc",
   "metadata": {},
   "source": [
    "It looks like data description is in Spanish. Can we use description column later or?"
   ]
  },
  {
   "cell_type": "code",
   "execution_count": 278,
   "id": "e8fdeb7e",
   "metadata": {},
   "outputs": [
    {
     "data": {
      "text/plain": [
       "False    338\n",
       "True      12\n",
       "Name: transferred, dtype: int64"
      ]
     },
     "execution_count": 278,
     "metadata": {},
     "output_type": "execute_result"
    }
   ],
   "source": [
    "holiday.transferred.value_counts()"
   ]
  },
  {
   "cell_type": "markdown",
   "id": "40148232",
   "metadata": {},
   "source": [
    "There are some trasnferred holidays"
   ]
  },
  {
   "cell_type": "code",
   "execution_count": 279,
   "id": "602efa89",
   "metadata": {},
   "outputs": [
    {
     "name": "stdout",
     "output_type": "stream",
     "text": [
      "<class 'pandas.core.frame.DataFrame'>\n",
      "RangeIndex: 350 entries, 0 to 349\n",
      "Data columns (total 6 columns):\n",
      " #   Column       Non-Null Count  Dtype \n",
      "---  ------       --------------  ----- \n",
      " 0   date         350 non-null    object\n",
      " 1   type         350 non-null    object\n",
      " 2   locale       350 non-null    object\n",
      " 3   locale_name  350 non-null    object\n",
      " 4   description  350 non-null    object\n",
      " 5   transferred  350 non-null    bool  \n",
      "dtypes: bool(1), object(5)\n",
      "memory usage: 14.1+ KB\n"
     ]
    }
   ],
   "source": [
    "holiday.info()"
   ]
  },
  {
   "cell_type": "markdown",
   "id": "1b987bae",
   "metadata": {},
   "source": [
    "Relatively smaller. 350 rows total and looks like we do not have missing values. One thing to note is that the column date is in character values. It might be beneficial to change the column to datetime object. "
   ]
  },
  {
   "cell_type": "code",
   "execution_count": 280,
   "id": "1c67501e",
   "metadata": {},
   "outputs": [],
   "source": [
    "holiday.loc[:, 'date'] = pd.DatetimeIndex(holiday.date)"
   ]
  },
  {
   "cell_type": "code",
   "execution_count": 281,
   "id": "cd93b3f5",
   "metadata": {},
   "outputs": [
    {
     "name": "stdout",
     "output_type": "stream",
     "text": [
      "Total number of rows: 350\n",
      "Missing value: 0\n",
      "date summary: \n",
      "count                     350\n",
      "unique                    312\n",
      "top       2014-06-25 00:00:00\n",
      "freq                        4\n",
      "first     2012-03-02 00:00:00\n",
      "last      2017-12-26 00:00:00\n",
      "Name: date, dtype: object\n",
      "--------------------------------------------------\n",
      "Total number of rows: 350\n",
      "Missing value: 0\n",
      "type summary: \n",
      "count         350\n",
      "unique          6\n",
      "top       Holiday\n",
      "freq          221\n",
      "Name: type, dtype: object\n",
      "--------------------------------------------------\n",
      "Total number of rows: 350\n",
      "Missing value: 0\n",
      "locale summary: \n",
      "count          350\n",
      "unique           3\n",
      "top       National\n",
      "freq           174\n",
      "Name: locale, dtype: object\n",
      "--------------------------------------------------\n",
      "Total number of rows: 350\n",
      "Missing value: 0\n",
      "locale_name summary: \n",
      "count         350\n",
      "unique         24\n",
      "top       Ecuador\n",
      "freq          174\n",
      "Name: locale_name, dtype: object\n",
      "--------------------------------------------------\n",
      "Total number of rows: 350\n",
      "Missing value: 0\n",
      "description summary: \n",
      "count          350\n",
      "unique         103\n",
      "top       Carnaval\n",
      "freq            10\n",
      "Name: description, dtype: object\n",
      "--------------------------------------------------\n",
      "Total number of rows: 350\n",
      "Missing value: 0\n",
      "transferred summary: \n",
      "count       350\n",
      "unique        2\n",
      "top       False\n",
      "freq        338\n",
      "Name: transferred, dtype: object\n",
      "--------------------------------------------------\n"
     ]
    },
    {
     "name": "stderr",
     "output_type": "stream",
     "text": [
      "/var/folders/t9/5hgq421x4xsgvkp8nd2kx4fw0000gn/T/ipykernel_49103/3715482436.py:7: FutureWarning: Treating datetime data as categorical rather than numeric in `.describe` is deprecated and will be removed in a future version of pandas. Specify `datetime_is_numeric=True` to silence this warning and adopt the future behavior now.\n",
      "  summary = data[col].describe()\n"
     ]
    }
   ],
   "source": [
    "print_summary(holiday)"
   ]
  },
  {
   "cell_type": "markdown",
   "id": "a62a67a7",
   "metadata": {},
   "source": [
    "A quick data summary for the dataset. We may be able to join the date column. Might be some sort of seasonality. "
   ]
  },
  {
   "cell_type": "markdown",
   "id": "31e0580a",
   "metadata": {},
   "source": [
    "- oil"
   ]
  },
  {
   "cell_type": "code",
   "execution_count": 282,
   "id": "8eefc8cf",
   "metadata": {},
   "outputs": [
    {
     "data": {
      "text/html": [
       "<div>\n",
       "<style scoped>\n",
       "    .dataframe tbody tr th:only-of-type {\n",
       "        vertical-align: middle;\n",
       "    }\n",
       "\n",
       "    .dataframe tbody tr th {\n",
       "        vertical-align: top;\n",
       "    }\n",
       "\n",
       "    .dataframe thead th {\n",
       "        text-align: right;\n",
       "    }\n",
       "</style>\n",
       "<table border=\"1\" class=\"dataframe\">\n",
       "  <thead>\n",
       "    <tr style=\"text-align: right;\">\n",
       "      <th></th>\n",
       "      <th>date</th>\n",
       "      <th>dcoilwtico</th>\n",
       "    </tr>\n",
       "  </thead>\n",
       "  <tbody>\n",
       "    <tr>\n",
       "      <th>0</th>\n",
       "      <td>2013-01-01</td>\n",
       "      <td>NaN</td>\n",
       "    </tr>\n",
       "    <tr>\n",
       "      <th>1</th>\n",
       "      <td>2013-01-02</td>\n",
       "      <td>93.14</td>\n",
       "    </tr>\n",
       "    <tr>\n",
       "      <th>2</th>\n",
       "      <td>2013-01-03</td>\n",
       "      <td>92.97</td>\n",
       "    </tr>\n",
       "    <tr>\n",
       "      <th>3</th>\n",
       "      <td>2013-01-04</td>\n",
       "      <td>93.12</td>\n",
       "    </tr>\n",
       "    <tr>\n",
       "      <th>4</th>\n",
       "      <td>2013-01-07</td>\n",
       "      <td>93.20</td>\n",
       "    </tr>\n",
       "  </tbody>\n",
       "</table>\n",
       "</div>"
      ],
      "text/plain": [
       "         date  dcoilwtico\n",
       "0  2013-01-01         NaN\n",
       "1  2013-01-02       93.14\n",
       "2  2013-01-03       92.97\n",
       "3  2013-01-04       93.12\n",
       "4  2013-01-07       93.20"
      ]
     },
     "execution_count": 282,
     "metadata": {},
     "output_type": "execute_result"
    }
   ],
   "source": [
    "oil.head()"
   ]
  },
  {
   "cell_type": "code",
   "execution_count": 283,
   "id": "15cd9adc",
   "metadata": {},
   "outputs": [
    {
     "data": {
      "text/html": [
       "<div>\n",
       "<style scoped>\n",
       "    .dataframe tbody tr th:only-of-type {\n",
       "        vertical-align: middle;\n",
       "    }\n",
       "\n",
       "    .dataframe tbody tr th {\n",
       "        vertical-align: top;\n",
       "    }\n",
       "\n",
       "    .dataframe thead th {\n",
       "        text-align: right;\n",
       "    }\n",
       "</style>\n",
       "<table border=\"1\" class=\"dataframe\">\n",
       "  <thead>\n",
       "    <tr style=\"text-align: right;\">\n",
       "      <th></th>\n",
       "      <th>date</th>\n",
       "      <th>dcoilwtico</th>\n",
       "    </tr>\n",
       "  </thead>\n",
       "  <tbody>\n",
       "    <tr>\n",
       "      <th>1213</th>\n",
       "      <td>2017-08-25</td>\n",
       "      <td>47.65</td>\n",
       "    </tr>\n",
       "    <tr>\n",
       "      <th>1214</th>\n",
       "      <td>2017-08-28</td>\n",
       "      <td>46.40</td>\n",
       "    </tr>\n",
       "    <tr>\n",
       "      <th>1215</th>\n",
       "      <td>2017-08-29</td>\n",
       "      <td>46.46</td>\n",
       "    </tr>\n",
       "    <tr>\n",
       "      <th>1216</th>\n",
       "      <td>2017-08-30</td>\n",
       "      <td>45.96</td>\n",
       "    </tr>\n",
       "    <tr>\n",
       "      <th>1217</th>\n",
       "      <td>2017-08-31</td>\n",
       "      <td>47.26</td>\n",
       "    </tr>\n",
       "  </tbody>\n",
       "</table>\n",
       "</div>"
      ],
      "text/plain": [
       "            date  dcoilwtico\n",
       "1213  2017-08-25       47.65\n",
       "1214  2017-08-28       46.40\n",
       "1215  2017-08-29       46.46\n",
       "1216  2017-08-30       45.96\n",
       "1217  2017-08-31       47.26"
      ]
     },
     "execution_count": 283,
     "metadata": {},
     "output_type": "execute_result"
    }
   ],
   "source": [
    "oil.tail()"
   ]
  },
  {
   "cell_type": "code",
   "execution_count": 284,
   "id": "a5f83bdb",
   "metadata": {
    "scrolled": true
   },
   "outputs": [
    {
     "name": "stdout",
     "output_type": "stream",
     "text": [
      "<class 'pandas.core.frame.DataFrame'>\n",
      "RangeIndex: 1218 entries, 0 to 1217\n",
      "Data columns (total 2 columns):\n",
      " #   Column      Non-Null Count  Dtype  \n",
      "---  ------      --------------  -----  \n",
      " 0   date        1218 non-null   object \n",
      " 1   dcoilwtico  1175 non-null   float64\n",
      "dtypes: float64(1), object(1)\n",
      "memory usage: 19.2+ KB\n"
     ]
    }
   ],
   "source": [
    "oil.info()"
   ]
  },
  {
   "cell_type": "code",
   "execution_count": 285,
   "id": "7322c924",
   "metadata": {},
   "outputs": [
    {
     "data": {
      "text/html": [
       "<div>\n",
       "<style scoped>\n",
       "    .dataframe tbody tr th:only-of-type {\n",
       "        vertical-align: middle;\n",
       "    }\n",
       "\n",
       "    .dataframe tbody tr th {\n",
       "        vertical-align: top;\n",
       "    }\n",
       "\n",
       "    .dataframe thead th {\n",
       "        text-align: right;\n",
       "    }\n",
       "</style>\n",
       "<table border=\"1\" class=\"dataframe\">\n",
       "  <thead>\n",
       "    <tr style=\"text-align: right;\">\n",
       "      <th></th>\n",
       "      <th>date</th>\n",
       "      <th>dcoilwtico</th>\n",
       "    </tr>\n",
       "  </thead>\n",
       "  <tbody>\n",
       "    <tr>\n",
       "      <th>0</th>\n",
       "      <td>2013-01-01</td>\n",
       "      <td>NaN</td>\n",
       "    </tr>\n",
       "    <tr>\n",
       "      <th>1</th>\n",
       "      <td>2013-01-02</td>\n",
       "      <td>93.14</td>\n",
       "    </tr>\n",
       "    <tr>\n",
       "      <th>2</th>\n",
       "      <td>2013-01-03</td>\n",
       "      <td>92.97</td>\n",
       "    </tr>\n",
       "    <tr>\n",
       "      <th>3</th>\n",
       "      <td>2013-01-04</td>\n",
       "      <td>93.12</td>\n",
       "    </tr>\n",
       "    <tr>\n",
       "      <th>4</th>\n",
       "      <td>2013-01-07</td>\n",
       "      <td>93.20</td>\n",
       "    </tr>\n",
       "  </tbody>\n",
       "</table>\n",
       "</div>"
      ],
      "text/plain": [
       "         date  dcoilwtico\n",
       "0  2013-01-01         NaN\n",
       "1  2013-01-02       93.14\n",
       "2  2013-01-03       92.97\n",
       "3  2013-01-04       93.12\n",
       "4  2013-01-07       93.20"
      ]
     },
     "execution_count": 285,
     "metadata": {},
     "output_type": "execute_result"
    }
   ],
   "source": [
    "oil.head()"
   ]
  },
  {
   "cell_type": "code",
   "execution_count": 286,
   "id": "242dd093",
   "metadata": {},
   "outputs": [],
   "source": [
    "oil.loc[:, 'date'] = pd.to_datetime(oil.date)"
   ]
  },
  {
   "cell_type": "markdown",
   "id": "78ae0aef",
   "metadata": {},
   "source": [
    "Still relatively small. The price of gas on a given date. Notice that the date column is also in character, so we need to convert it. "
   ]
  },
  {
   "cell_type": "code",
   "execution_count": 287,
   "id": "068fb689",
   "metadata": {},
   "outputs": [],
   "source": [
    "oil.loc[:, 'date'] = pd.DatetimeIndex(oil.date)"
   ]
  },
  {
   "cell_type": "code",
   "execution_count": 288,
   "id": "39cfed35",
   "metadata": {},
   "outputs": [
    {
     "name": "stdout",
     "output_type": "stream",
     "text": [
      "Total number of rows: 1218\n",
      "Missing value: 0\n",
      "date summary: \n",
      "count                    1218\n",
      "unique                   1218\n",
      "top       2013-01-01 00:00:00\n",
      "freq                        1\n",
      "first     2013-01-01 00:00:00\n",
      "last      2017-08-31 00:00:00\n",
      "Name: date, dtype: object\n",
      "--------------------------------------------------\n",
      "Total number of rows: 1218\n",
      "Missing value: 43\n",
      "dcoilwtico summary: \n",
      "count    1175.000000\n",
      "mean       67.714366\n",
      "std        25.630476\n",
      "min        26.190000\n",
      "25%        46.405000\n",
      "50%        53.190000\n",
      "75%        95.660000\n",
      "max       110.620000\n",
      "Name: dcoilwtico, dtype: float64\n",
      "--------------------------------------------------\n"
     ]
    },
    {
     "name": "stderr",
     "output_type": "stream",
     "text": [
      "/var/folders/t9/5hgq421x4xsgvkp8nd2kx4fw0000gn/T/ipykernel_49103/3715482436.py:7: FutureWarning: Treating datetime data as categorical rather than numeric in `.describe` is deprecated and will be removed in a future version of pandas. Specify `datetime_is_numeric=True` to silence this warning and adopt the future behavior now.\n",
      "  summary = data[col].describe()\n"
     ]
    }
   ],
   "source": [
    "print_summary(oil)"
   ]
  },
  {
   "cell_type": "markdown",
   "id": "de84d440",
   "metadata": {},
   "source": [
    "some missing value in this dataframe."
   ]
  },
  {
   "cell_type": "code",
   "execution_count": 289,
   "id": "6ae177b1",
   "metadata": {},
   "outputs": [],
   "source": [
    "oil.fillna(method = 'ffill', inplace = True)"
   ]
  },
  {
   "cell_type": "markdown",
   "id": "ca5384ef",
   "metadata": {},
   "source": [
    "For the oil price, there are some missing valeus. Therefore, we can impute these missing values using the historical price. This might not be necessarily true, but it should not fluctuate that much, so for now we can use previous values. "
   ]
  },
  {
   "cell_type": "code",
   "execution_count": 290,
   "id": "6ae40063",
   "metadata": {},
   "outputs": [],
   "source": [
    "oil.fillna(method = 'bfill', inplace = True)"
   ]
  },
  {
   "cell_type": "markdown",
   "id": "f4e615b4",
   "metadata": {},
   "source": [
    "The first row has a missing value (1/1/13). Assuming this happened because of the new year, but let's use the price of 1/2/13 for this specific row. "
   ]
  },
  {
   "cell_type": "code",
   "execution_count": 291,
   "id": "2aa63044",
   "metadata": {},
   "outputs": [],
   "source": [
    "oil.to_csv('../output/complete_oil.csv', index = False)"
   ]
  },
  {
   "cell_type": "markdown",
   "id": "b042e5f7",
   "metadata": {},
   "source": [
    "- store"
   ]
  },
  {
   "cell_type": "code",
   "execution_count": 292,
   "id": "653a7b93",
   "metadata": {},
   "outputs": [
    {
     "data": {
      "text/html": [
       "<div>\n",
       "<style scoped>\n",
       "    .dataframe tbody tr th:only-of-type {\n",
       "        vertical-align: middle;\n",
       "    }\n",
       "\n",
       "    .dataframe tbody tr th {\n",
       "        vertical-align: top;\n",
       "    }\n",
       "\n",
       "    .dataframe thead th {\n",
       "        text-align: right;\n",
       "    }\n",
       "</style>\n",
       "<table border=\"1\" class=\"dataframe\">\n",
       "  <thead>\n",
       "    <tr style=\"text-align: right;\">\n",
       "      <th></th>\n",
       "      <th>store_nbr</th>\n",
       "      <th>city</th>\n",
       "      <th>state</th>\n",
       "      <th>type</th>\n",
       "      <th>cluster</th>\n",
       "    </tr>\n",
       "  </thead>\n",
       "  <tbody>\n",
       "    <tr>\n",
       "      <th>0</th>\n",
       "      <td>1</td>\n",
       "      <td>Quito</td>\n",
       "      <td>Pichincha</td>\n",
       "      <td>D</td>\n",
       "      <td>13</td>\n",
       "    </tr>\n",
       "    <tr>\n",
       "      <th>1</th>\n",
       "      <td>2</td>\n",
       "      <td>Quito</td>\n",
       "      <td>Pichincha</td>\n",
       "      <td>D</td>\n",
       "      <td>13</td>\n",
       "    </tr>\n",
       "    <tr>\n",
       "      <th>2</th>\n",
       "      <td>3</td>\n",
       "      <td>Quito</td>\n",
       "      <td>Pichincha</td>\n",
       "      <td>D</td>\n",
       "      <td>8</td>\n",
       "    </tr>\n",
       "    <tr>\n",
       "      <th>3</th>\n",
       "      <td>4</td>\n",
       "      <td>Quito</td>\n",
       "      <td>Pichincha</td>\n",
       "      <td>D</td>\n",
       "      <td>9</td>\n",
       "    </tr>\n",
       "    <tr>\n",
       "      <th>4</th>\n",
       "      <td>5</td>\n",
       "      <td>Santo Domingo</td>\n",
       "      <td>Santo Domingo de los Tsachilas</td>\n",
       "      <td>D</td>\n",
       "      <td>4</td>\n",
       "    </tr>\n",
       "  </tbody>\n",
       "</table>\n",
       "</div>"
      ],
      "text/plain": [
       "   store_nbr           city                           state type  cluster\n",
       "0          1          Quito                       Pichincha    D       13\n",
       "1          2          Quito                       Pichincha    D       13\n",
       "2          3          Quito                       Pichincha    D        8\n",
       "3          4          Quito                       Pichincha    D        9\n",
       "4          5  Santo Domingo  Santo Domingo de los Tsachilas    D        4"
      ]
     },
     "execution_count": 292,
     "metadata": {},
     "output_type": "execute_result"
    }
   ],
   "source": [
    "store.head()"
   ]
  },
  {
   "cell_type": "code",
   "execution_count": 293,
   "id": "9654d7e5",
   "metadata": {},
   "outputs": [
    {
     "data": {
      "text/html": [
       "<div>\n",
       "<style scoped>\n",
       "    .dataframe tbody tr th:only-of-type {\n",
       "        vertical-align: middle;\n",
       "    }\n",
       "\n",
       "    .dataframe tbody tr th {\n",
       "        vertical-align: top;\n",
       "    }\n",
       "\n",
       "    .dataframe thead th {\n",
       "        text-align: right;\n",
       "    }\n",
       "</style>\n",
       "<table border=\"1\" class=\"dataframe\">\n",
       "  <thead>\n",
       "    <tr style=\"text-align: right;\">\n",
       "      <th></th>\n",
       "      <th>store_nbr</th>\n",
       "      <th>city</th>\n",
       "      <th>state</th>\n",
       "      <th>type</th>\n",
       "      <th>cluster</th>\n",
       "    </tr>\n",
       "  </thead>\n",
       "  <tbody>\n",
       "    <tr>\n",
       "      <th>49</th>\n",
       "      <td>50</td>\n",
       "      <td>Ambato</td>\n",
       "      <td>Tungurahua</td>\n",
       "      <td>A</td>\n",
       "      <td>14</td>\n",
       "    </tr>\n",
       "    <tr>\n",
       "      <th>50</th>\n",
       "      <td>51</td>\n",
       "      <td>Guayaquil</td>\n",
       "      <td>Guayas</td>\n",
       "      <td>A</td>\n",
       "      <td>17</td>\n",
       "    </tr>\n",
       "    <tr>\n",
       "      <th>51</th>\n",
       "      <td>52</td>\n",
       "      <td>Manta</td>\n",
       "      <td>Manabi</td>\n",
       "      <td>A</td>\n",
       "      <td>11</td>\n",
       "    </tr>\n",
       "    <tr>\n",
       "      <th>52</th>\n",
       "      <td>53</td>\n",
       "      <td>Manta</td>\n",
       "      <td>Manabi</td>\n",
       "      <td>D</td>\n",
       "      <td>13</td>\n",
       "    </tr>\n",
       "    <tr>\n",
       "      <th>53</th>\n",
       "      <td>54</td>\n",
       "      <td>El Carmen</td>\n",
       "      <td>Manabi</td>\n",
       "      <td>C</td>\n",
       "      <td>3</td>\n",
       "    </tr>\n",
       "  </tbody>\n",
       "</table>\n",
       "</div>"
      ],
      "text/plain": [
       "    store_nbr       city       state type  cluster\n",
       "49         50     Ambato  Tungurahua    A       14\n",
       "50         51  Guayaquil      Guayas    A       17\n",
       "51         52      Manta      Manabi    A       11\n",
       "52         53      Manta      Manabi    D       13\n",
       "53         54  El Carmen      Manabi    C        3"
      ]
     },
     "execution_count": 293,
     "metadata": {},
     "output_type": "execute_result"
    }
   ],
   "source": [
    "store.tail()"
   ]
  },
  {
   "cell_type": "code",
   "execution_count": 294,
   "id": "3995f519",
   "metadata": {
    "scrolled": true
   },
   "outputs": [
    {
     "data": {
      "text/plain": [
       "D    18\n",
       "C    15\n",
       "A     9\n",
       "B     8\n",
       "E     4\n",
       "Name: type, dtype: int64"
      ]
     },
     "execution_count": 294,
     "metadata": {},
     "output_type": "execute_result"
    }
   ],
   "source": [
    "store.type.value_counts()"
   ]
  },
  {
   "cell_type": "code",
   "execution_count": 295,
   "id": "25ffbcf6",
   "metadata": {},
   "outputs": [
    {
     "data": {
      "text/plain": [
       "1     3\n",
       "2     2\n",
       "3     7\n",
       "4     3\n",
       "5     1\n",
       "6     6\n",
       "7     2\n",
       "8     3\n",
       "9     2\n",
       "10    6\n",
       "11    3\n",
       "12    1\n",
       "13    4\n",
       "14    4\n",
       "15    5\n",
       "16    1\n",
       "17    1\n",
       "Name: cluster, dtype: int64"
      ]
     },
     "execution_count": 295,
     "metadata": {},
     "output_type": "execute_result"
    }
   ],
   "source": [
    "store.cluster.value_counts().sort_index()"
   ]
  },
  {
   "cell_type": "code",
   "execution_count": 296,
   "id": "ba862423",
   "metadata": {},
   "outputs": [
    {
     "name": "stdout",
     "output_type": "stream",
     "text": [
      "<class 'pandas.core.frame.DataFrame'>\n",
      "RangeIndex: 54 entries, 0 to 53\n",
      "Data columns (total 5 columns):\n",
      " #   Column     Non-Null Count  Dtype \n",
      "---  ------     --------------  ----- \n",
      " 0   store_nbr  54 non-null     int64 \n",
      " 1   city       54 non-null     object\n",
      " 2   state      54 non-null     object\n",
      " 3   type       54 non-null     object\n",
      " 4   cluster    54 non-null     int64 \n",
      "dtypes: int64(2), object(3)\n",
      "memory usage: 2.2+ KB\n"
     ]
    }
   ],
   "source": [
    "store.info()"
   ]
  },
  {
   "cell_type": "markdown",
   "id": "91d7a4b8",
   "metadata": {},
   "source": [
    "store and cluster seem to be better with categorical values. need to change them into character"
   ]
  },
  {
   "cell_type": "code",
   "execution_count": 297,
   "id": "324bcb26",
   "metadata": {},
   "outputs": [],
   "source": [
    "store.loc[:, 'store_nbr'] = store.store_nbr.apply(lambda x: str(x))\n",
    "store.loc[:, 'cluster'] = store.cluster.apply(lambda x: str(x))"
   ]
  },
  {
   "cell_type": "code",
   "execution_count": 298,
   "id": "e729df10",
   "metadata": {
    "scrolled": true
   },
   "outputs": [
    {
     "name": "stdout",
     "output_type": "stream",
     "text": [
      "Total number of rows: 54\n",
      "Missing value: 0\n",
      "store_nbr summary: \n",
      "count     54\n",
      "unique    54\n",
      "top        1\n",
      "freq       1\n",
      "Name: store_nbr, dtype: object\n",
      "--------------------------------------------------\n",
      "Total number of rows: 54\n",
      "Missing value: 0\n",
      "city summary: \n",
      "count        54\n",
      "unique       22\n",
      "top       Quito\n",
      "freq         18\n",
      "Name: city, dtype: object\n",
      "--------------------------------------------------\n",
      "Total number of rows: 54\n",
      "Missing value: 0\n",
      "state summary: \n",
      "count            54\n",
      "unique           16\n",
      "top       Pichincha\n",
      "freq             19\n",
      "Name: state, dtype: object\n",
      "--------------------------------------------------\n",
      "Total number of rows: 54\n",
      "Missing value: 0\n",
      "type summary: \n",
      "count     54\n",
      "unique     5\n",
      "top        D\n",
      "freq      18\n",
      "Name: type, dtype: object\n",
      "--------------------------------------------------\n",
      "Total number of rows: 54\n",
      "Missing value: 0\n",
      "cluster summary: \n",
      "count     54\n",
      "unique    17\n",
      "top        3\n",
      "freq       7\n",
      "Name: cluster, dtype: object\n",
      "--------------------------------------------------\n"
     ]
    }
   ],
   "source": [
    "print_summary(store)"
   ]
  },
  {
   "cell_type": "markdown",
   "id": "e0fb419d",
   "metadata": {},
   "source": [
    "- transaction"
   ]
  },
  {
   "cell_type": "code",
   "execution_count": 299,
   "id": "345aa581",
   "metadata": {
    "scrolled": true
   },
   "outputs": [
    {
     "data": {
      "text/html": [
       "<div>\n",
       "<style scoped>\n",
       "    .dataframe tbody tr th:only-of-type {\n",
       "        vertical-align: middle;\n",
       "    }\n",
       "\n",
       "    .dataframe tbody tr th {\n",
       "        vertical-align: top;\n",
       "    }\n",
       "\n",
       "    .dataframe thead th {\n",
       "        text-align: right;\n",
       "    }\n",
       "</style>\n",
       "<table border=\"1\" class=\"dataframe\">\n",
       "  <thead>\n",
       "    <tr style=\"text-align: right;\">\n",
       "      <th></th>\n",
       "      <th>date</th>\n",
       "      <th>store_nbr</th>\n",
       "      <th>transactions</th>\n",
       "    </tr>\n",
       "  </thead>\n",
       "  <tbody>\n",
       "    <tr>\n",
       "      <th>0</th>\n",
       "      <td>2013-01-01</td>\n",
       "      <td>25</td>\n",
       "      <td>770</td>\n",
       "    </tr>\n",
       "    <tr>\n",
       "      <th>1</th>\n",
       "      <td>2013-01-02</td>\n",
       "      <td>1</td>\n",
       "      <td>2111</td>\n",
       "    </tr>\n",
       "    <tr>\n",
       "      <th>2</th>\n",
       "      <td>2013-01-02</td>\n",
       "      <td>2</td>\n",
       "      <td>2358</td>\n",
       "    </tr>\n",
       "    <tr>\n",
       "      <th>3</th>\n",
       "      <td>2013-01-02</td>\n",
       "      <td>3</td>\n",
       "      <td>3487</td>\n",
       "    </tr>\n",
       "    <tr>\n",
       "      <th>4</th>\n",
       "      <td>2013-01-02</td>\n",
       "      <td>4</td>\n",
       "      <td>1922</td>\n",
       "    </tr>\n",
       "  </tbody>\n",
       "</table>\n",
       "</div>"
      ],
      "text/plain": [
       "         date  store_nbr  transactions\n",
       "0  2013-01-01         25           770\n",
       "1  2013-01-02          1          2111\n",
       "2  2013-01-02          2          2358\n",
       "3  2013-01-02          3          3487\n",
       "4  2013-01-02          4          1922"
      ]
     },
     "execution_count": 299,
     "metadata": {},
     "output_type": "execute_result"
    }
   ],
   "source": [
    "transaction.head()"
   ]
  },
  {
   "cell_type": "code",
   "execution_count": 300,
   "id": "523a85e0",
   "metadata": {},
   "outputs": [
    {
     "data": {
      "text/html": [
       "<div>\n",
       "<style scoped>\n",
       "    .dataframe tbody tr th:only-of-type {\n",
       "        vertical-align: middle;\n",
       "    }\n",
       "\n",
       "    .dataframe tbody tr th {\n",
       "        vertical-align: top;\n",
       "    }\n",
       "\n",
       "    .dataframe thead th {\n",
       "        text-align: right;\n",
       "    }\n",
       "</style>\n",
       "<table border=\"1\" class=\"dataframe\">\n",
       "  <thead>\n",
       "    <tr style=\"text-align: right;\">\n",
       "      <th></th>\n",
       "      <th>date</th>\n",
       "      <th>store_nbr</th>\n",
       "      <th>transactions</th>\n",
       "    </tr>\n",
       "  </thead>\n",
       "  <tbody>\n",
       "    <tr>\n",
       "      <th>83483</th>\n",
       "      <td>2017-08-15</td>\n",
       "      <td>50</td>\n",
       "      <td>2804</td>\n",
       "    </tr>\n",
       "    <tr>\n",
       "      <th>83484</th>\n",
       "      <td>2017-08-15</td>\n",
       "      <td>51</td>\n",
       "      <td>1573</td>\n",
       "    </tr>\n",
       "    <tr>\n",
       "      <th>83485</th>\n",
       "      <td>2017-08-15</td>\n",
       "      <td>52</td>\n",
       "      <td>2255</td>\n",
       "    </tr>\n",
       "    <tr>\n",
       "      <th>83486</th>\n",
       "      <td>2017-08-15</td>\n",
       "      <td>53</td>\n",
       "      <td>932</td>\n",
       "    </tr>\n",
       "    <tr>\n",
       "      <th>83487</th>\n",
       "      <td>2017-08-15</td>\n",
       "      <td>54</td>\n",
       "      <td>802</td>\n",
       "    </tr>\n",
       "  </tbody>\n",
       "</table>\n",
       "</div>"
      ],
      "text/plain": [
       "             date  store_nbr  transactions\n",
       "83483  2017-08-15         50          2804\n",
       "83484  2017-08-15         51          1573\n",
       "83485  2017-08-15         52          2255\n",
       "83486  2017-08-15         53           932\n",
       "83487  2017-08-15         54           802"
      ]
     },
     "execution_count": 300,
     "metadata": {},
     "output_type": "execute_result"
    }
   ],
   "source": [
    "transaction.tail()"
   ]
  },
  {
   "cell_type": "code",
   "execution_count": 301,
   "id": "3c9337ca",
   "metadata": {},
   "outputs": [
    {
     "name": "stdout",
     "output_type": "stream",
     "text": [
      "<class 'pandas.core.frame.DataFrame'>\n",
      "RangeIndex: 83488 entries, 0 to 83487\n",
      "Data columns (total 3 columns):\n",
      " #   Column        Non-Null Count  Dtype \n",
      "---  ------        --------------  ----- \n",
      " 0   date          83488 non-null  object\n",
      " 1   store_nbr     83488 non-null  int64 \n",
      " 2   transactions  83488 non-null  int64 \n",
      "dtypes: int64(2), object(1)\n",
      "memory usage: 1.9+ MB\n"
     ]
    }
   ],
   "source": [
    "transaction.info()"
   ]
  },
  {
   "cell_type": "markdown",
   "id": "2d2b3cb0",
   "metadata": {},
   "source": [
    "non missing and not many columns. change date and store_sbr data type"
   ]
  },
  {
   "cell_type": "code",
   "execution_count": 302,
   "id": "aa14883c",
   "metadata": {},
   "outputs": [
    {
     "data": {
      "text/html": [
       "<div>\n",
       "<style scoped>\n",
       "    .dataframe tbody tr th:only-of-type {\n",
       "        vertical-align: middle;\n",
       "    }\n",
       "\n",
       "    .dataframe tbody tr th {\n",
       "        vertical-align: top;\n",
       "    }\n",
       "\n",
       "    .dataframe thead th {\n",
       "        text-align: right;\n",
       "    }\n",
       "</style>\n",
       "<table border=\"1\" class=\"dataframe\">\n",
       "  <thead>\n",
       "    <tr style=\"text-align: right;\">\n",
       "      <th></th>\n",
       "      <th>date</th>\n",
       "      <th>store_nbr</th>\n",
       "      <th>transactions</th>\n",
       "    </tr>\n",
       "  </thead>\n",
       "  <tbody>\n",
       "    <tr>\n",
       "      <th>0</th>\n",
       "      <td>2013-01-01</td>\n",
       "      <td>25</td>\n",
       "      <td>770</td>\n",
       "    </tr>\n",
       "    <tr>\n",
       "      <th>1</th>\n",
       "      <td>2013-01-02</td>\n",
       "      <td>1</td>\n",
       "      <td>2111</td>\n",
       "    </tr>\n",
       "    <tr>\n",
       "      <th>2</th>\n",
       "      <td>2013-01-02</td>\n",
       "      <td>2</td>\n",
       "      <td>2358</td>\n",
       "    </tr>\n",
       "    <tr>\n",
       "      <th>3</th>\n",
       "      <td>2013-01-02</td>\n",
       "      <td>3</td>\n",
       "      <td>3487</td>\n",
       "    </tr>\n",
       "    <tr>\n",
       "      <th>4</th>\n",
       "      <td>2013-01-02</td>\n",
       "      <td>4</td>\n",
       "      <td>1922</td>\n",
       "    </tr>\n",
       "  </tbody>\n",
       "</table>\n",
       "</div>"
      ],
      "text/plain": [
       "         date  store_nbr  transactions\n",
       "0  2013-01-01         25           770\n",
       "1  2013-01-02          1          2111\n",
       "2  2013-01-02          2          2358\n",
       "3  2013-01-02          3          3487\n",
       "4  2013-01-02          4          1922"
      ]
     },
     "execution_count": 302,
     "metadata": {},
     "output_type": "execute_result"
    }
   ],
   "source": [
    "transaction.head()"
   ]
  },
  {
   "cell_type": "code",
   "execution_count": 303,
   "id": "1522f001",
   "metadata": {},
   "outputs": [
    {
     "data": {
      "text/html": [
       "<div>\n",
       "<style scoped>\n",
       "    .dataframe tbody tr th:only-of-type {\n",
       "        vertical-align: middle;\n",
       "    }\n",
       "\n",
       "    .dataframe tbody tr th {\n",
       "        vertical-align: top;\n",
       "    }\n",
       "\n",
       "    .dataframe thead th {\n",
       "        text-align: right;\n",
       "    }\n",
       "</style>\n",
       "<table border=\"1\" class=\"dataframe\">\n",
       "  <thead>\n",
       "    <tr style=\"text-align: right;\">\n",
       "      <th></th>\n",
       "      <th>date</th>\n",
       "      <th>store_nbr</th>\n",
       "      <th>transactions</th>\n",
       "    </tr>\n",
       "  </thead>\n",
       "  <tbody>\n",
       "    <tr>\n",
       "      <th>83483</th>\n",
       "      <td>2017-08-15</td>\n",
       "      <td>50</td>\n",
       "      <td>2804</td>\n",
       "    </tr>\n",
       "    <tr>\n",
       "      <th>83484</th>\n",
       "      <td>2017-08-15</td>\n",
       "      <td>51</td>\n",
       "      <td>1573</td>\n",
       "    </tr>\n",
       "    <tr>\n",
       "      <th>83485</th>\n",
       "      <td>2017-08-15</td>\n",
       "      <td>52</td>\n",
       "      <td>2255</td>\n",
       "    </tr>\n",
       "    <tr>\n",
       "      <th>83486</th>\n",
       "      <td>2017-08-15</td>\n",
       "      <td>53</td>\n",
       "      <td>932</td>\n",
       "    </tr>\n",
       "    <tr>\n",
       "      <th>83487</th>\n",
       "      <td>2017-08-15</td>\n",
       "      <td>54</td>\n",
       "      <td>802</td>\n",
       "    </tr>\n",
       "  </tbody>\n",
       "</table>\n",
       "</div>"
      ],
      "text/plain": [
       "             date  store_nbr  transactions\n",
       "83483  2017-08-15         50          2804\n",
       "83484  2017-08-15         51          1573\n",
       "83485  2017-08-15         52          2255\n",
       "83486  2017-08-15         53           932\n",
       "83487  2017-08-15         54           802"
      ]
     },
     "execution_count": 303,
     "metadata": {},
     "output_type": "execute_result"
    }
   ],
   "source": [
    "transaction.tail()"
   ]
  },
  {
   "cell_type": "code",
   "execution_count": 304,
   "id": "3ed12efe",
   "metadata": {},
   "outputs": [],
   "source": [
    "transaction.loc[:, 'date'] = pd.DatetimeIndex(transaction.date)\n",
    "transaction.loc[:, 'store_nbr'] = transaction.store_nbr.apply(lambda x: str(x))"
   ]
  },
  {
   "cell_type": "code",
   "execution_count": 305,
   "id": "61066cd8",
   "metadata": {},
   "outputs": [
    {
     "name": "stdout",
     "output_type": "stream",
     "text": [
      "Total number of rows: 83488\n",
      "Missing value: 0\n",
      "date summary: \n",
      "count                   83488\n",
      "unique                   1682\n",
      "top       2017-08-15 00:00:00\n",
      "freq                       54\n",
      "first     2013-01-01 00:00:00\n",
      "last      2017-08-15 00:00:00\n",
      "Name: date, dtype: object\n",
      "--------------------------------------------------\n",
      "Total number of rows: 83488\n",
      "Missing value: 0\n",
      "store_nbr summary: \n",
      "count     83488\n",
      "unique       54\n",
      "top          39\n",
      "freq       1678\n",
      "Name: store_nbr, dtype: object\n",
      "--------------------------------------------------\n",
      "Total number of rows: 83488\n",
      "Missing value: 0\n",
      "transactions summary: \n",
      "count    83488.000000\n",
      "mean      1694.602158\n",
      "std        963.286644\n",
      "min          5.000000\n",
      "25%       1046.000000\n",
      "50%       1393.000000\n",
      "75%       2079.000000\n",
      "max       8359.000000\n",
      "Name: transactions, dtype: float64\n",
      "--------------------------------------------------\n"
     ]
    },
    {
     "name": "stderr",
     "output_type": "stream",
     "text": [
      "/var/folders/t9/5hgq421x4xsgvkp8nd2kx4fw0000gn/T/ipykernel_49103/3715482436.py:7: FutureWarning: Treating datetime data as categorical rather than numeric in `.describe` is deprecated and will be removed in a future version of pandas. Specify `datetime_is_numeric=True` to silence this warning and adopt the future behavior now.\n",
      "  summary = data[col].describe()\n"
     ]
    }
   ],
   "source": [
    "print_summary(transaction)"
   ]
  },
  {
   "cell_type": "markdown",
   "id": "e8d2d78f",
   "metadata": {},
   "source": [
    "- train"
   ]
  },
  {
   "cell_type": "code",
   "execution_count": 306,
   "id": "27e44b64",
   "metadata": {},
   "outputs": [
    {
     "data": {
      "text/html": [
       "<div>\n",
       "<style scoped>\n",
       "    .dataframe tbody tr th:only-of-type {\n",
       "        vertical-align: middle;\n",
       "    }\n",
       "\n",
       "    .dataframe tbody tr th {\n",
       "        vertical-align: top;\n",
       "    }\n",
       "\n",
       "    .dataframe thead th {\n",
       "        text-align: right;\n",
       "    }\n",
       "</style>\n",
       "<table border=\"1\" class=\"dataframe\">\n",
       "  <thead>\n",
       "    <tr style=\"text-align: right;\">\n",
       "      <th></th>\n",
       "      <th>id</th>\n",
       "      <th>date</th>\n",
       "      <th>store_nbr</th>\n",
       "      <th>family</th>\n",
       "      <th>sales</th>\n",
       "      <th>onpromotion</th>\n",
       "    </tr>\n",
       "  </thead>\n",
       "  <tbody>\n",
       "    <tr>\n",
       "      <th>0</th>\n",
       "      <td>0</td>\n",
       "      <td>2013-01-01</td>\n",
       "      <td>1</td>\n",
       "      <td>AUTOMOTIVE</td>\n",
       "      <td>0.0</td>\n",
       "      <td>0</td>\n",
       "    </tr>\n",
       "    <tr>\n",
       "      <th>1</th>\n",
       "      <td>1</td>\n",
       "      <td>2013-01-01</td>\n",
       "      <td>1</td>\n",
       "      <td>BABY CARE</td>\n",
       "      <td>0.0</td>\n",
       "      <td>0</td>\n",
       "    </tr>\n",
       "    <tr>\n",
       "      <th>2</th>\n",
       "      <td>2</td>\n",
       "      <td>2013-01-01</td>\n",
       "      <td>1</td>\n",
       "      <td>BEAUTY</td>\n",
       "      <td>0.0</td>\n",
       "      <td>0</td>\n",
       "    </tr>\n",
       "    <tr>\n",
       "      <th>3</th>\n",
       "      <td>3</td>\n",
       "      <td>2013-01-01</td>\n",
       "      <td>1</td>\n",
       "      <td>BEVERAGES</td>\n",
       "      <td>0.0</td>\n",
       "      <td>0</td>\n",
       "    </tr>\n",
       "    <tr>\n",
       "      <th>4</th>\n",
       "      <td>4</td>\n",
       "      <td>2013-01-01</td>\n",
       "      <td>1</td>\n",
       "      <td>BOOKS</td>\n",
       "      <td>0.0</td>\n",
       "      <td>0</td>\n",
       "    </tr>\n",
       "  </tbody>\n",
       "</table>\n",
       "</div>"
      ],
      "text/plain": [
       "   id        date  store_nbr      family  sales  onpromotion\n",
       "0   0  2013-01-01          1  AUTOMOTIVE    0.0            0\n",
       "1   1  2013-01-01          1   BABY CARE    0.0            0\n",
       "2   2  2013-01-01          1      BEAUTY    0.0            0\n",
       "3   3  2013-01-01          1   BEVERAGES    0.0            0\n",
       "4   4  2013-01-01          1       BOOKS    0.0            0"
      ]
     },
     "execution_count": 306,
     "metadata": {},
     "output_type": "execute_result"
    }
   ],
   "source": [
    "train.head()"
   ]
  },
  {
   "cell_type": "code",
   "execution_count": 307,
   "id": "78fe2fe9",
   "metadata": {
    "scrolled": true
   },
   "outputs": [
    {
     "data": {
      "text/html": [
       "<div>\n",
       "<style scoped>\n",
       "    .dataframe tbody tr th:only-of-type {\n",
       "        vertical-align: middle;\n",
       "    }\n",
       "\n",
       "    .dataframe tbody tr th {\n",
       "        vertical-align: top;\n",
       "    }\n",
       "\n",
       "    .dataframe thead th {\n",
       "        text-align: right;\n",
       "    }\n",
       "</style>\n",
       "<table border=\"1\" class=\"dataframe\">\n",
       "  <thead>\n",
       "    <tr style=\"text-align: right;\">\n",
       "      <th></th>\n",
       "      <th>id</th>\n",
       "      <th>date</th>\n",
       "      <th>store_nbr</th>\n",
       "      <th>family</th>\n",
       "      <th>sales</th>\n",
       "      <th>onpromotion</th>\n",
       "    </tr>\n",
       "  </thead>\n",
       "  <tbody>\n",
       "    <tr>\n",
       "      <th>3000883</th>\n",
       "      <td>3000883</td>\n",
       "      <td>2017-08-15</td>\n",
       "      <td>9</td>\n",
       "      <td>POULTRY</td>\n",
       "      <td>438.133</td>\n",
       "      <td>0</td>\n",
       "    </tr>\n",
       "    <tr>\n",
       "      <th>3000884</th>\n",
       "      <td>3000884</td>\n",
       "      <td>2017-08-15</td>\n",
       "      <td>9</td>\n",
       "      <td>PREPARED FOODS</td>\n",
       "      <td>154.553</td>\n",
       "      <td>1</td>\n",
       "    </tr>\n",
       "    <tr>\n",
       "      <th>3000885</th>\n",
       "      <td>3000885</td>\n",
       "      <td>2017-08-15</td>\n",
       "      <td>9</td>\n",
       "      <td>PRODUCE</td>\n",
       "      <td>2419.729</td>\n",
       "      <td>148</td>\n",
       "    </tr>\n",
       "    <tr>\n",
       "      <th>3000886</th>\n",
       "      <td>3000886</td>\n",
       "      <td>2017-08-15</td>\n",
       "      <td>9</td>\n",
       "      <td>SCHOOL AND OFFICE SUPPLIES</td>\n",
       "      <td>121.000</td>\n",
       "      <td>8</td>\n",
       "    </tr>\n",
       "    <tr>\n",
       "      <th>3000887</th>\n",
       "      <td>3000887</td>\n",
       "      <td>2017-08-15</td>\n",
       "      <td>9</td>\n",
       "      <td>SEAFOOD</td>\n",
       "      <td>16.000</td>\n",
       "      <td>0</td>\n",
       "    </tr>\n",
       "  </tbody>\n",
       "</table>\n",
       "</div>"
      ],
      "text/plain": [
       "              id        date  store_nbr                      family     sales  \\\n",
       "3000883  3000883  2017-08-15          9                     POULTRY   438.133   \n",
       "3000884  3000884  2017-08-15          9              PREPARED FOODS   154.553   \n",
       "3000885  3000885  2017-08-15          9                     PRODUCE  2419.729   \n",
       "3000886  3000886  2017-08-15          9  SCHOOL AND OFFICE SUPPLIES   121.000   \n",
       "3000887  3000887  2017-08-15          9                     SEAFOOD    16.000   \n",
       "\n",
       "         onpromotion  \n",
       "3000883            0  \n",
       "3000884            1  \n",
       "3000885          148  \n",
       "3000886            8  \n",
       "3000887            0  "
      ]
     },
     "execution_count": 307,
     "metadata": {},
     "output_type": "execute_result"
    }
   ],
   "source": [
    "train.tail()"
   ]
  },
  {
   "cell_type": "code",
   "execution_count": 308,
   "id": "82228b2a",
   "metadata": {},
   "outputs": [
    {
     "name": "stdout",
     "output_type": "stream",
     "text": [
      "<class 'pandas.core.frame.DataFrame'>\n",
      "RangeIndex: 3000888 entries, 0 to 3000887\n",
      "Data columns (total 6 columns):\n",
      " #   Column       Dtype  \n",
      "---  ------       -----  \n",
      " 0   id           int64  \n",
      " 1   date         object \n",
      " 2   store_nbr    int64  \n",
      " 3   family       object \n",
      " 4   sales        float64\n",
      " 5   onpromotion  int64  \n",
      "dtypes: float64(1), int64(3), object(2)\n",
      "memory usage: 137.4+ MB\n"
     ]
    }
   ],
   "source": [
    "train.info()"
   ]
  },
  {
   "cell_type": "markdown",
   "id": "d41fe718",
   "metadata": {},
   "source": [
    "for train, we have a good amount of data, but the number of columns is not that high. change their data type values accordingly."
   ]
  },
  {
   "cell_type": "markdown",
   "id": "b7dff3a3",
   "metadata": {},
   "source": [
    "check missing dates"
   ]
  },
  {
   "cell_type": "code",
   "execution_count": 309,
   "id": "af54e8fe",
   "metadata": {},
   "outputs": [],
   "source": [
    "train_check = train.set_index('date')"
   ]
  },
  {
   "cell_type": "code",
   "execution_count": 310,
   "id": "fedbb4e9",
   "metadata": {},
   "outputs": [
    {
     "name": "stdout",
     "output_type": "stream",
     "text": [
      "DatetimeIndex(['2013-12-25', '2014-12-25', '2015-12-25', '2016-12-25'], dtype='datetime64[ns]', freq=None)\n"
     ]
    }
   ],
   "source": [
    "train_check.index = pd.to_datetime(train_check.index)\n",
    "\n",
    "print(pd.date_range(start= min(train_check.index),\n",
    "              end = max(train_check.index)).difference(train_check.index))"
   ]
  },
  {
   "cell_type": "markdown",
   "id": "98351c04",
   "metadata": {},
   "source": [
    "For Christmas, looks like all the stores are closed."
   ]
  },
  {
   "cell_type": "code",
   "execution_count": 312,
   "id": "cbdeb7c7",
   "metadata": {
    "scrolled": false
   },
   "outputs": [
    {
     "name": "stderr",
     "output_type": "stream",
     "text": [
      "/var/folders/t9/5hgq421x4xsgvkp8nd2kx4fw0000gn/T/ipykernel_49103/1942604989.py:5: SettingWithCopyWarning: \n",
      "A value is trying to be set on a copy of a slice from a DataFrame.\n",
      "Try using .loc[row_indexer,col_indexer] = value instead\n",
      "\n",
      "See the caveats in the documentation: https://pandas.pydata.org/pandas-docs/stable/user_guide/indexing.html#returning-a-view-versus-a-copy\n",
      "  copy.loc[:,'date'] = christmas\n",
      "/var/folders/t9/5hgq421x4xsgvkp8nd2kx4fw0000gn/T/ipykernel_49103/1942604989.py:6: FutureWarning: The frame.append method is deprecated and will be removed from pandas in a future version. Use pandas.concat instead.\n",
      "  christmas_df = christmas_df.append(copy, ignore_index= True)\n"
     ]
    }
   ],
   "source": [
    "christmas_df = pd.DataFrame()\n",
    "copy = train[train.date == '2013-01-01']\n",
    "\n",
    "for christmas in ['2013-12-25', '2014-12-25', '2015-12-25', '2016-12-25']:\n",
    "    copy.loc[:,'date'] = christmas\n",
    "    christmas_df = christmas_df.append(copy, ignore_index= True)"
   ]
  },
  {
   "cell_type": "code",
   "execution_count": 313,
   "id": "3edb95e0",
   "metadata": {
    "scrolled": true
   },
   "outputs": [],
   "source": [
    "train = pd.concat([train,  christmas_df]).drop(columns = 'id')"
   ]
  },
  {
   "cell_type": "code",
   "execution_count": 314,
   "id": "284f377e",
   "metadata": {
    "scrolled": true
   },
   "outputs": [
    {
     "name": "stdout",
     "output_type": "stream",
     "text": [
      "Total number of rows: 3008016\n",
      "Missing value: 0\n",
      "date summary: \n",
      "count        3008016\n",
      "unique          1688\n",
      "top       2013-01-01\n",
      "freq            1782\n",
      "Name: date, dtype: object\n",
      "--------------------------------------------------\n",
      "Total number of rows: 3008016\n",
      "Missing value: 0\n",
      "store_nbr summary: \n",
      "count    3.008016e+06\n",
      "mean     2.750000e+01\n",
      "std      1.558579e+01\n",
      "min      1.000000e+00\n",
      "25%      1.400000e+01\n",
      "50%      2.750000e+01\n",
      "75%      4.100000e+01\n",
      "max      5.400000e+01\n",
      "Name: store_nbr, dtype: float64\n",
      "--------------------------------------------------\n",
      "Total number of rows: 3008016\n",
      "Missing value: 0\n",
      "family summary: \n",
      "count        3008016\n",
      "unique            33\n",
      "top       AUTOMOTIVE\n",
      "freq           91152\n",
      "Name: family, dtype: object\n",
      "--------------------------------------------------\n",
      "Total number of rows: 3008016\n",
      "Missing value: 0\n",
      "sales summary: \n",
      "count    3.008016e+06\n",
      "mean     3.569313e+02\n",
      "std      1.100828e+03\n",
      "min      0.000000e+00\n",
      "25%      0.000000e+00\n",
      "50%      1.100000e+01\n",
      "75%      1.950000e+02\n",
      "max      1.247170e+05\n",
      "Name: sales, dtype: float64\n",
      "--------------------------------------------------\n",
      "Total number of rows: 3008016\n",
      "Missing value: 0\n",
      "onpromotion summary: \n",
      "count    3.008016e+06\n",
      "mean     2.596603e+00\n",
      "std      1.220505e+01\n",
      "min      0.000000e+00\n",
      "25%      0.000000e+00\n",
      "50%      0.000000e+00\n",
      "75%      0.000000e+00\n",
      "max      7.410000e+02\n",
      "Name: onpromotion, dtype: float64\n",
      "--------------------------------------------------\n"
     ]
    }
   ],
   "source": [
    "print_summary(train)"
   ]
  },
  {
   "cell_type": "code",
   "execution_count": 315,
   "id": "c2f4fddf",
   "metadata": {},
   "outputs": [],
   "source": [
    "train.loc[:, 'date'] = pd.DatetimeIndex(train.date)\n",
    "train.loc[:, 'store_nbr'] = train.store_nbr.apply(lambda x: str(x))"
   ]
  },
  {
   "cell_type": "code",
   "execution_count": 316,
   "id": "7d868849",
   "metadata": {},
   "outputs": [],
   "source": [
    "train.sort_values(by = ['date', 'store_nbr'], inplace = True)"
   ]
  },
  {
   "cell_type": "markdown",
   "id": "7227b86f",
   "metadata": {},
   "source": [
    "- test"
   ]
  },
  {
   "cell_type": "code",
   "execution_count": 317,
   "id": "72bac074",
   "metadata": {},
   "outputs": [
    {
     "data": {
      "text/html": [
       "<div>\n",
       "<style scoped>\n",
       "    .dataframe tbody tr th:only-of-type {\n",
       "        vertical-align: middle;\n",
       "    }\n",
       "\n",
       "    .dataframe tbody tr th {\n",
       "        vertical-align: top;\n",
       "    }\n",
       "\n",
       "    .dataframe thead th {\n",
       "        text-align: right;\n",
       "    }\n",
       "</style>\n",
       "<table border=\"1\" class=\"dataframe\">\n",
       "  <thead>\n",
       "    <tr style=\"text-align: right;\">\n",
       "      <th></th>\n",
       "      <th>id</th>\n",
       "      <th>date</th>\n",
       "      <th>store_nbr</th>\n",
       "      <th>family</th>\n",
       "      <th>onpromotion</th>\n",
       "    </tr>\n",
       "  </thead>\n",
       "  <tbody>\n",
       "    <tr>\n",
       "      <th>0</th>\n",
       "      <td>3000888</td>\n",
       "      <td>2017-08-16</td>\n",
       "      <td>1</td>\n",
       "      <td>AUTOMOTIVE</td>\n",
       "      <td>0</td>\n",
       "    </tr>\n",
       "    <tr>\n",
       "      <th>1</th>\n",
       "      <td>3000889</td>\n",
       "      <td>2017-08-16</td>\n",
       "      <td>1</td>\n",
       "      <td>BABY CARE</td>\n",
       "      <td>0</td>\n",
       "    </tr>\n",
       "    <tr>\n",
       "      <th>2</th>\n",
       "      <td>3000890</td>\n",
       "      <td>2017-08-16</td>\n",
       "      <td>1</td>\n",
       "      <td>BEAUTY</td>\n",
       "      <td>2</td>\n",
       "    </tr>\n",
       "    <tr>\n",
       "      <th>3</th>\n",
       "      <td>3000891</td>\n",
       "      <td>2017-08-16</td>\n",
       "      <td>1</td>\n",
       "      <td>BEVERAGES</td>\n",
       "      <td>20</td>\n",
       "    </tr>\n",
       "    <tr>\n",
       "      <th>4</th>\n",
       "      <td>3000892</td>\n",
       "      <td>2017-08-16</td>\n",
       "      <td>1</td>\n",
       "      <td>BOOKS</td>\n",
       "      <td>0</td>\n",
       "    </tr>\n",
       "  </tbody>\n",
       "</table>\n",
       "</div>"
      ],
      "text/plain": [
       "        id        date  store_nbr      family  onpromotion\n",
       "0  3000888  2017-08-16          1  AUTOMOTIVE            0\n",
       "1  3000889  2017-08-16          1   BABY CARE            0\n",
       "2  3000890  2017-08-16          1      BEAUTY            2\n",
       "3  3000891  2017-08-16          1   BEVERAGES           20\n",
       "4  3000892  2017-08-16          1       BOOKS            0"
      ]
     },
     "execution_count": 317,
     "metadata": {},
     "output_type": "execute_result"
    }
   ],
   "source": [
    "test.head()"
   ]
  },
  {
   "cell_type": "code",
   "execution_count": 318,
   "id": "d7337592",
   "metadata": {},
   "outputs": [
    {
     "data": {
      "text/html": [
       "<div>\n",
       "<style scoped>\n",
       "    .dataframe tbody tr th:only-of-type {\n",
       "        vertical-align: middle;\n",
       "    }\n",
       "\n",
       "    .dataframe tbody tr th {\n",
       "        vertical-align: top;\n",
       "    }\n",
       "\n",
       "    .dataframe thead th {\n",
       "        text-align: right;\n",
       "    }\n",
       "</style>\n",
       "<table border=\"1\" class=\"dataframe\">\n",
       "  <thead>\n",
       "    <tr style=\"text-align: right;\">\n",
       "      <th></th>\n",
       "      <th>id</th>\n",
       "      <th>date</th>\n",
       "      <th>store_nbr</th>\n",
       "      <th>family</th>\n",
       "      <th>onpromotion</th>\n",
       "    </tr>\n",
       "  </thead>\n",
       "  <tbody>\n",
       "    <tr>\n",
       "      <th>28507</th>\n",
       "      <td>3029395</td>\n",
       "      <td>2017-08-31</td>\n",
       "      <td>9</td>\n",
       "      <td>POULTRY</td>\n",
       "      <td>1</td>\n",
       "    </tr>\n",
       "    <tr>\n",
       "      <th>28508</th>\n",
       "      <td>3029396</td>\n",
       "      <td>2017-08-31</td>\n",
       "      <td>9</td>\n",
       "      <td>PREPARED FOODS</td>\n",
       "      <td>0</td>\n",
       "    </tr>\n",
       "    <tr>\n",
       "      <th>28509</th>\n",
       "      <td>3029397</td>\n",
       "      <td>2017-08-31</td>\n",
       "      <td>9</td>\n",
       "      <td>PRODUCE</td>\n",
       "      <td>1</td>\n",
       "    </tr>\n",
       "    <tr>\n",
       "      <th>28510</th>\n",
       "      <td>3029398</td>\n",
       "      <td>2017-08-31</td>\n",
       "      <td>9</td>\n",
       "      <td>SCHOOL AND OFFICE SUPPLIES</td>\n",
       "      <td>9</td>\n",
       "    </tr>\n",
       "    <tr>\n",
       "      <th>28511</th>\n",
       "      <td>3029399</td>\n",
       "      <td>2017-08-31</td>\n",
       "      <td>9</td>\n",
       "      <td>SEAFOOD</td>\n",
       "      <td>0</td>\n",
       "    </tr>\n",
       "  </tbody>\n",
       "</table>\n",
       "</div>"
      ],
      "text/plain": [
       "            id        date  store_nbr                      family  onpromotion\n",
       "28507  3029395  2017-08-31          9                     POULTRY            1\n",
       "28508  3029396  2017-08-31          9              PREPARED FOODS            0\n",
       "28509  3029397  2017-08-31          9                     PRODUCE            1\n",
       "28510  3029398  2017-08-31          9  SCHOOL AND OFFICE SUPPLIES            9\n",
       "28511  3029399  2017-08-31          9                     SEAFOOD            0"
      ]
     },
     "execution_count": 318,
     "metadata": {},
     "output_type": "execute_result"
    }
   ],
   "source": [
    "test.tail()"
   ]
  },
  {
   "cell_type": "code",
   "execution_count": 319,
   "id": "7b50596c",
   "metadata": {},
   "outputs": [
    {
     "name": "stdout",
     "output_type": "stream",
     "text": [
      "<class 'pandas.core.frame.DataFrame'>\n",
      "RangeIndex: 28512 entries, 0 to 28511\n",
      "Data columns (total 5 columns):\n",
      " #   Column       Non-Null Count  Dtype \n",
      "---  ------       --------------  ----- \n",
      " 0   id           28512 non-null  int64 \n",
      " 1   date         28512 non-null  object\n",
      " 2   store_nbr    28512 non-null  int64 \n",
      " 3   family       28512 non-null  object\n",
      " 4   onpromotion  28512 non-null  int64 \n",
      "dtypes: int64(3), object(2)\n",
      "memory usage: 1.1+ MB\n"
     ]
    }
   ],
   "source": [
    "test.info()"
   ]
  },
  {
   "cell_type": "markdown",
   "id": "ac1ab07f",
   "metadata": {},
   "source": [
    "change the data types accordingly."
   ]
  },
  {
   "cell_type": "code",
   "execution_count": 320,
   "id": "3398f411",
   "metadata": {},
   "outputs": [],
   "source": [
    "test.loc[:, 'date'] = pd.DatetimeIndex(test.date)\n",
    "test.loc[:, 'store_nbr'] = test.store_nbr.apply(lambda x: str(x))"
   ]
  },
  {
   "cell_type": "markdown",
   "id": "10981309",
   "metadata": {},
   "source": [
    "check missing dates"
   ]
  },
  {
   "cell_type": "code",
   "execution_count": 321,
   "id": "7a21707e",
   "metadata": {},
   "outputs": [],
   "source": [
    "test_check = test.set_index('date')"
   ]
  },
  {
   "cell_type": "code",
   "execution_count": 322,
   "id": "77c1554d",
   "metadata": {},
   "outputs": [
    {
     "name": "stdout",
     "output_type": "stream",
     "text": [
      "DatetimeIndex([], dtype='datetime64[ns]', freq=None)\n"
     ]
    }
   ],
   "source": [
    "test_check.index = pd.to_datetime(test_check.index)\n",
    "\n",
    "print(pd.date_range(start= min(test_check.index),\n",
    "              end = max(test_check.index)).difference(test_check.index))"
   ]
  },
  {
   "cell_type": "code",
   "execution_count": 323,
   "id": "5e508a94",
   "metadata": {},
   "outputs": [
    {
     "name": "stdout",
     "output_type": "stream",
     "text": [
      "Total number of rows: 28512\n",
      "Missing value: 0\n",
      "id summary: \n",
      "count    2.851200e+04\n",
      "mean     3.015144e+06\n",
      "std      8.230850e+03\n",
      "min      3.000888e+06\n",
      "25%      3.008016e+06\n",
      "50%      3.015144e+06\n",
      "75%      3.022271e+06\n",
      "max      3.029399e+06\n",
      "Name: id, dtype: float64\n",
      "--------------------------------------------------\n",
      "Total number of rows: 28512\n",
      "Missing value: 0\n",
      "date summary: \n",
      "count                   28512\n",
      "unique                     16\n",
      "top       2017-08-16 00:00:00\n",
      "freq                     1782\n",
      "first     2017-08-16 00:00:00\n",
      "last      2017-08-31 00:00:00\n",
      "Name: date, dtype: object\n",
      "--------------------------------------------------\n",
      "Total number of rows: 28512\n",
      "Missing value: 0\n",
      "store_nbr summary: \n",
      "count     28512\n",
      "unique       54\n",
      "top           1\n",
      "freq        528\n",
      "Name: store_nbr, dtype: object\n",
      "--------------------------------------------------\n",
      "Total number of rows: 28512\n",
      "Missing value: 0\n",
      "family summary: \n",
      "count          28512\n",
      "unique            33\n",
      "top       AUTOMOTIVE\n",
      "freq             864\n",
      "Name: family, dtype: object\n",
      "--------------------------------------------------\n",
      "Total number of rows: 28512\n",
      "Missing value: 0\n",
      "onpromotion summary: \n",
      "count    28512.000000\n",
      "mean         6.965383\n",
      "std         20.683952\n",
      "min          0.000000\n",
      "25%          0.000000\n",
      "50%          0.000000\n",
      "75%          6.000000\n",
      "max        646.000000\n",
      "Name: onpromotion, dtype: float64\n",
      "--------------------------------------------------\n"
     ]
    },
    {
     "name": "stderr",
     "output_type": "stream",
     "text": [
      "/var/folders/t9/5hgq421x4xsgvkp8nd2kx4fw0000gn/T/ipykernel_49103/3715482436.py:7: FutureWarning: Treating datetime data as categorical rather than numeric in `.describe` is deprecated and will be removed in a future version of pandas. Specify `datetime_is_numeric=True` to silence this warning and adopt the future behavior now.\n",
      "  summary = data[col].describe()\n"
     ]
    }
   ],
   "source": [
    "print_summary(test)"
   ]
  },
  {
   "cell_type": "markdown",
   "id": "bf550977",
   "metadata": {},
   "source": [
    "### Combine data"
   ]
  },
  {
   "cell_type": "markdown",
   "id": "d6610784",
   "metadata": {},
   "source": [
    "After looking into data, we can combine the results"
   ]
  },
  {
   "cell_type": "code",
   "execution_count": 359,
   "id": "b4fdf85a",
   "metadata": {},
   "outputs": [],
   "source": [
    "counts = pd.DataFrame(holiday.date.value_counts()).rename(columns = {'date':'holiday_counts'})"
   ]
  },
  {
   "cell_type": "code",
   "execution_count": 360,
   "id": "839ffc68",
   "metadata": {},
   "outputs": [],
   "source": [
    "counts.loc[:, 'is_multiple'] = counts.holiday_counts.apply(lambda x: 1 if x > 1 else 0)"
   ]
  },
  {
   "cell_type": "code",
   "execution_count": 364,
   "id": "3f4de035",
   "metadata": {},
   "outputs": [],
   "source": [
    "counts.reset_index(inplace = True)"
   ]
  },
  {
   "cell_type": "code",
   "execution_count": 367,
   "id": "33127f69",
   "metadata": {
    "scrolled": true
   },
   "outputs": [],
   "source": [
    "counts = counts.rename(columns= {'index':'date'})"
   ]
  },
  {
   "cell_type": "markdown",
   "id": "395ee525",
   "metadata": {},
   "source": [
    "Let's use holiday counts rather the actual holiday dataframe since it causes duplicate issues."
   ]
  },
  {
   "cell_type": "code",
   "execution_count": 383,
   "id": "855905cb",
   "metadata": {},
   "outputs": [],
   "source": [
    "holiday[holiday.transferred == True].to_pickle('../asset/transfer_holidays.pkl')"
   ]
  },
  {
   "cell_type": "markdown",
   "id": "b1609e2d",
   "metadata": {},
   "source": [
    "pickle transfer holidays"
   ]
  },
  {
   "cell_type": "code",
   "execution_count": 372,
   "id": "1f105e50",
   "metadata": {
    "scrolled": true
   },
   "outputs": [],
   "source": [
    "train_df = train.merge(oil, left_on= 'date', right_on = 'date', how = 'left').merge(counts, left_on= 'date', right_on= 'date', how = 'left').merge(store, left_on= 'store_nbr', right_on = 'store_nbr', how = 'left')"
   ]
  },
  {
   "cell_type": "code",
   "execution_count": 373,
   "id": "a78c59fc",
   "metadata": {},
   "outputs": [],
   "source": [
    "test_df =test.merge(oil, left_on= 'date', right_on = 'date', how = 'left').merge(counts, left_on= 'date', right_on= 'date', how = 'left').merge(store, left_on= 'store_nbr', right_on = 'store_nbr', how = 'left')"
   ]
  },
  {
   "cell_type": "code",
   "execution_count": 374,
   "id": "78577813",
   "metadata": {},
   "outputs": [],
   "source": [
    "train_df.rename(columns= {'type_x':'holiday_type',\n",
    "                          'type_y':'store_type'}, inplace = True)"
   ]
  },
  {
   "cell_type": "code",
   "execution_count": 375,
   "id": "bc1e52d9",
   "metadata": {},
   "outputs": [],
   "source": [
    "test_df.rename(columns= {'type_x':'holiday_type',\n",
    "                          'type_y':'store_type'}, inplace = True)"
   ]
  },
  {
   "cell_type": "markdown",
   "id": "b7acb5e9",
   "metadata": {},
   "source": [
    "### Export data"
   ]
  },
  {
   "cell_type": "code",
   "execution_count": 378,
   "id": "e26486fd",
   "metadata": {},
   "outputs": [],
   "source": [
    "train_df.to_pickle('../output/train_df.pkl')\n",
    "test_df.to_pickle('../output/test_df.pkl')"
   ]
  }
 ],
 "metadata": {
  "kernelspec": {
   "display_name": "Python 3 (ipykernel)",
   "language": "python",
   "name": "python3"
  },
  "language_info": {
   "codemirror_mode": {
    "name": "ipython",
    "version": 3
   },
   "file_extension": ".py",
   "mimetype": "text/x-python",
   "name": "python",
   "nbconvert_exporter": "python",
   "pygments_lexer": "ipython3",
   "version": "3.9.13"
  }
 },
 "nbformat": 4,
 "nbformat_minor": 5
}
