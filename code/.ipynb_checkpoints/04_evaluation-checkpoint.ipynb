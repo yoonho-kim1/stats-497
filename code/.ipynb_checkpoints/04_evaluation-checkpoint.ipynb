{
 "cells": [
  {
   "cell_type": "markdown",
   "id": "d73111c6",
   "metadata": {},
   "source": [
    "### Import libraries"
   ]
  },
  {
   "cell_type": "code",
   "execution_count": 1,
   "id": "03ebbec6",
   "metadata": {},
   "outputs": [],
   "source": [
    "import numpy as np\n",
    "import pandas as pd\n",
    "import pickle\n",
    "from sklearn.metrics import mean_absolute_error\n",
    "import matplotlib.pyplot as plt\n",
    "import seaborn as sns\n",
    "%matplotlib inline"
   ]
  },
  {
   "cell_type": "markdown",
   "id": "e434089d",
   "metadata": {},
   "source": [
    "### Helper"
   ]
  },
  {
   "cell_type": "code",
   "execution_count": 16,
   "id": "194b9638",
   "metadata": {},
   "outputs": [],
   "source": [
    "def calculate_total_errors(pred_dict, actual, yhat):\n",
    "    \n",
    "    \"\"\"This function will calculate the erorrs using mean absolute erorrs.\n",
    "    \n",
    "    Input:\n",
    "    pred_dict -> dict (key: unique_key, values: y and yhat)\n",
    "    actual -> (values: the actual y value)\n",
    "    yhat -> (values: the predicdted value from the model)\n",
    "    \n",
    "    Output:\n",
    "    error -> int (mean absolute erorr)\"\"\"\n",
    "    \n",
    "\n",
    "    \n",
    "    error_total = 0\n",
    "    # looping through the dictionary and summing the error.\n",
    "    for key in pred_dict:\n",
    "        error = mean_absolute_error(pred_dict[key][actual], pred_dict[key][yhat])\n",
    "        error_total += error\n",
    "        \n",
    "    return error_total"
   ]
  },
  {
   "cell_type": "markdown",
   "id": "a0d570c8",
   "metadata": {},
   "source": [
    "### Import data"
   ]
  },
  {
   "cell_type": "markdown",
   "id": "c3024cce",
   "metadata": {},
   "source": [
    "- linear regression"
   ]
  },
  {
   "cell_type": "code",
   "execution_count": 2,
   "id": "f3b61f39",
   "metadata": {},
   "outputs": [],
   "source": [
    "with open('../asset/lr_model/lr_train_dict.pkl', 'rb') as f:\n",
    "    lr_train_dict = pickle.load(f)"
   ]
  },
  {
   "cell_type": "code",
   "execution_count": 3,
   "id": "97c77511",
   "metadata": {},
   "outputs": [],
   "source": [
    "with open('../asset/lr_model/lr_test_dict.pkl', 'rb') as f:\n",
    "    lr_test_dict = pickle.load(f)"
   ]
  },
  {
   "cell_type": "markdown",
   "id": "6f6aa87b",
   "metadata": {},
   "source": [
    "- lasso"
   ]
  },
  {
   "cell_type": "code",
   "execution_count": 29,
   "id": "321aae9b",
   "metadata": {},
   "outputs": [],
   "source": [
    "with open('../asset/lasso_model/lasso_train_dict.pkl', 'rb') as f:\n",
    "    lasso_train_dict = pickle.load(f)"
   ]
  },
  {
   "cell_type": "code",
   "execution_count": 30,
   "id": "f6d7e485",
   "metadata": {},
   "outputs": [],
   "source": [
    "with open('../asset/lasso_model/lasso_test_dict.pkl', 'rb') as f:\n",
    "    lasso_test_dict = pickle.load(f)"
   ]
  },
  {
   "cell_type": "markdown",
   "id": "31d4a8a6",
   "metadata": {},
   "source": [
    "- xgb"
   ]
  },
  {
   "cell_type": "code",
   "execution_count": 6,
   "id": "1a80c5e0",
   "metadata": {},
   "outputs": [],
   "source": [
    "with open('../asset/xgb_model/xgb_train_dict.pkl', 'rb') as f:\n",
    "    xgb_train_dict = pickle.load(f)"
   ]
  },
  {
   "cell_type": "code",
   "execution_count": 7,
   "id": "9c3d5539",
   "metadata": {},
   "outputs": [],
   "source": [
    "with open('../asset/xgb_model/xgb_test_dict.pkl', 'rb') as f:\n",
    "    xgb_test_dict = pickle.load(f)"
   ]
  },
  {
   "cell_type": "markdown",
   "id": "ce4c1430",
   "metadata": {},
   "source": [
    "- combined"
   ]
  },
  {
   "cell_type": "code",
   "execution_count": 8,
   "id": "a451841e",
   "metadata": {},
   "outputs": [],
   "source": [
    "with open('../asset/combined_model/total_train_dict.pkl', 'rb') as f:\n",
    "    total_train_dict = pickle.load(f)"
   ]
  },
  {
   "cell_type": "code",
   "execution_count": 9,
   "id": "92ebb066",
   "metadata": {},
   "outputs": [],
   "source": [
    "with open('../asset/combined_model/total_test_dict.pkl', 'rb') as f:\n",
    "    total_test_dict = pickle.load(f)"
   ]
  },
  {
   "cell_type": "markdown",
   "id": "4f610263",
   "metadata": {},
   "source": [
    "- prophet"
   ]
  },
  {
   "cell_type": "code",
   "execution_count": 10,
   "id": "fc12139c",
   "metadata": {},
   "outputs": [],
   "source": [
    "with open('../asset/prophet_model/combined_dict.pkl', 'rb') as f:\n",
    "    prophet_combined_dict = pickle.load(f)"
   ]
  },
  {
   "cell_type": "markdown",
   "id": "d050a78b",
   "metadata": {},
   "source": [
    "### Error Check"
   ]
  },
  {
   "cell_type": "markdown",
   "id": "9bc09583",
   "metadata": {},
   "source": [
    "- lr"
   ]
  },
  {
   "cell_type": "code",
   "execution_count": 17,
   "id": "81c8bf69",
   "metadata": {},
   "outputs": [],
   "source": [
    "lr_train_error = calculate_total_errors(lr_train_dict, 'train_y', 'train_yhat')\n",
    "lr_test_error = calculate_total_errors(lr_test_dict,'test_y', 'test_yhat' )"
   ]
  },
  {
   "cell_type": "markdown",
   "id": "eb9ac31b",
   "metadata": {},
   "source": [
    "- lasso"
   ]
  },
  {
   "cell_type": "code",
   "execution_count": 31,
   "id": "0962cdf8",
   "metadata": {},
   "outputs": [],
   "source": [
    "lasso_train_error = calculate_total_errors(lasso_train_dict, 'train_y', 'train_yhat')\n",
    "lasso_test_error = calculate_total_errors(lasso_test_dict, 'test_y', 'test_yhat')"
   ]
  },
  {
   "cell_type": "markdown",
   "id": "dab812d2",
   "metadata": {},
   "source": [
    "- xgb"
   ]
  },
  {
   "cell_type": "code",
   "execution_count": 19,
   "id": "8c5034f2",
   "metadata": {},
   "outputs": [],
   "source": [
    "xgb_train_error = calculate_total_errors(xgb_train_dict, 'train_y', 'train_yhat')\n",
    "xgb_test_error = calculate_total_errors(xgb_test_dict, 'test_y', 'test_yhat')"
   ]
  },
  {
   "cell_type": "markdown",
   "id": "ca5b817c",
   "metadata": {},
   "source": [
    "- combined"
   ]
  },
  {
   "cell_type": "code",
   "execution_count": 21,
   "id": "b0e7bb4a",
   "metadata": {},
   "outputs": [],
   "source": [
    "total_train_error = calculate_total_errors(total_train_dict, 'actual', 'yhat')\n",
    "total_test_error = calculate_total_errors(total_test_dict, 'actual', 'yhat')"
   ]
  },
  {
   "cell_type": "markdown",
   "id": "344750cc",
   "metadata": {},
   "source": [
    "- prophet"
   ]
  },
  {
   "cell_type": "code",
   "execution_count": 23,
   "id": "c89b1518",
   "metadata": {},
   "outputs": [],
   "source": [
    "train_error = 0\n",
    "test_error = 0\n",
    "\n",
    "for key in prophet_combined_dict:\n",
    "    data = prophet_combined_dict[key]\n",
    "    train = data[data.indicator == 'train']\n",
    "    test = data[data.indicator == 'test']\n",
    "    \n",
    "    train_e = mean_absolute_error(train['y'], train['yhat'])\n",
    "    test_e = mean_absolute_error(test['y'], test['yhat'])\n",
    "    \n",
    "    train_error += train_e\n",
    "    test_error += test_e"
   ]
  },
  {
   "cell_type": "code",
   "execution_count": 35,
   "id": "f9bb6765",
   "metadata": {},
   "outputs": [
    {
     "name": "stdout",
     "output_type": "stream",
     "text": [
      "Using Linear Regression, the mean absolute error in the training dataset is 136632.364\n",
      "Using Linear Regression, the mean absolute error in the validation dataset is 293779.7383\n",
      "------------------------------------------------------------------------------------------\n",
      "Using Lasso, the mean absolute error in the training dataset is 136624.5913\n",
      "Using Lasso, the mean absolute error in the validation dataset is 292813.3353\n",
      "------------------------------------------------------------------------------------------\n",
      "Using XGBoost, the mean absolute error in the training dataset is 23999.8968\n",
      "Using XGBoost, the mean absolute error in the validation dataset is 216646.2786\n",
      "------------------------------------------------------------------------------------------\n",
      "Using Lasso & XGBoost, the mean absolute error in the training dataset is 26357.1988\n",
      "Using Lasso & XGBoost, the mean absolute error in the validation dataset is 224199.7479\n",
      "------------------------------------------------------------------------------------------\n",
      "Using Prophet, the mean absolute error in the training dataset is 118304.5524\n",
      "Using Prophet, the mean absolute error in the validation dataset is 252022.2557\n"
     ]
    }
   ],
   "source": [
    "print(f\"Using Linear Regression, the mean absolute error in the training dataset is {round(lr_train_error, 4)}\")\n",
    "print(f\"Using Linear Regression, the mean absolute error in the validation dataset is {round(lr_test_error, 4)}\")\n",
    "print('-' * 90)\n",
    "print(f\"Using Lasso, the mean absolute error in the training dataset is {round(lasso_train_error, 4)}\")\n",
    "print(f\"Using Lasso, the mean absolute error in the validation dataset is {round(lasso_test_error, 4)}\")\n",
    "print('-' * 90)\n",
    "print(f\"Using XGBoost, the mean absolute error in the training dataset is {round(xgb_train_error, 4)}\")\n",
    "print(f\"Using XGBoost, the mean absolute error in the validation dataset is {round(xgb_test_error, 4)}\")\n",
    "print('-' * 90)\n",
    "print(f\"Using Lasso & XGBoost, the mean absolute error in the training dataset is {round(total_train_error, 4)}\")\n",
    "print(f\"Using Lasso & XGBoost, the mean absolute error in the validation dataset is {round(total_test_error, 4)}\")\n",
    "print('-' * 90)\n",
    "print(f\"Using Prophet, the mean absolute error in the training dataset is {round(train_error, 4)}\")\n",
    "print(f\"Using Prophet, the mean absolute error in the validation dataset is {round(test_error, 4)}\")"
   ]
  },
  {
   "cell_type": "markdown",
   "id": "8fc8058c",
   "metadata": {},
   "source": [
    "Looks like XGBoost has the best performance, but overfits. Let's hyper parameter tune the model."
   ]
  }
 ],
 "metadata": {
  "kernelspec": {
   "display_name": "Python 3 (ipykernel)",
   "language": "python",
   "name": "python3"
  },
  "language_info": {
   "codemirror_mode": {
    "name": "ipython",
    "version": 3
   },
   "file_extension": ".py",
   "mimetype": "text/x-python",
   "name": "python",
   "nbconvert_exporter": "python",
   "pygments_lexer": "ipython3",
   "version": "3.9.13"
  }
 },
 "nbformat": 4,
 "nbformat_minor": 5
}
